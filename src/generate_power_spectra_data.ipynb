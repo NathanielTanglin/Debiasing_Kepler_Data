{
 "cells": [
  {
   "cell_type": "code",
   "execution_count": 191,
   "metadata": {},
   "outputs": [],
   "source": [
    "import pandas as pd\n",
    "import numpy as np\n",
    "import os\n",
    "import matplotlib.pyplot as plt"
   ]
  },
  {
   "cell_type": "code",
   "execution_count": 192,
   "metadata": {},
   "outputs": [],
   "source": [
    "def generate_power_spectra_data(savepath, system_filepaths):\n",
    "    '''\n",
    "    Creates mulitple .csv files with power spectra data corresponding to h, k, p, and q vector quantities \n",
    "    of each planet in each system.\n",
    "\n",
    "    Params:\n",
    "    - savepath: The path to the .csv file to save the data into.\n",
    "    - system_filepaths: A list of filepaths that link to the .csv data files where the data is taken from.\n",
    "    '''\n",
    "    \n",
    "    # Validates the input.\n",
    "    if type(system_filepaths) != list:\n",
    "        raise Exception('Please input the system filepaths as a list. The input is not a list.')\n",
    "\n",
    "    try:\n",
    "        # Defines the csv file object.\n",
    "        csv_file = open(savepath, 'w', encoding = 'utf-8')\n",
    "\n",
    "        # Initializes the header variable.\n",
    "        header = 'Time'\n",
    "\n",
    "        # Generates the header: Time,Planet 1 h,Planet 1 k,Planet 1 p,Planet 2 h...\n",
    "        for planet_num in range(1, 10):\n",
    "            planet_label = 'Planet {n}'.format(n = planet_num)\n",
    "            header += ',' + planet_label + ' h,' + planet_label + ' k,' + planet_label + ' p,' + planet_label + ' q'\n",
    "\n",
    "        # Ends the header line.\n",
    "        header += '\\n'\n",
    "\n",
    "        # Writes the header to the .csv file.\n",
    "        csv_file.write(header)\n",
    "\n",
    "        # Loops through each system filepath in the filepaths list.\n",
    "        for system_filepath in system_filepaths:\n",
    "            # Reads in the data for the current system as a pandas dataframe.\n",
    "            data = pd.read_csv(system_filepath)\n",
    "\n",
    "            # Gets the time series.\n",
    "            time = data['Time']\n",
    "\n",
    "            # Captures the last timestep of the integration.\n",
    "            endtime = time.iloc[-1].astype(float)\n",
    "\n",
    "            # Skips the system if it failed to integrate the full 1 Myr interval.\n",
    "            if endtime < 1e6:\n",
    "                continue\n",
    "\n",
    "            # Gets the relevant columns for all four relevant orbital elements.\n",
    "            inclination_columns = sorted([column for column in data.columns if 'inclination' in column])\n",
    "            eccentricity_columns = sorted([column for column in data.columns if 'ecc' in column])\n",
    "            omega_columns = sorted([column for column in data.columns if 'omega' in column])\n",
    "            Omega_columns = sorted([column for column in data.columns if 'Omega' in column])\n",
    "\n",
    "            # Ensures that the arrays are of identical size.\n",
    "            assert len(inclination_columns) == len(eccentricity_columns) == len(omega_columns) == len(Omega_columns)\n",
    "\n",
    "            # Calculates the multiplicity of the system from the length of the inclination columns.\n",
    "            multiplicity = len(inclination_columns)\n",
    "\n",
    "            # Initializes a set of four vector lists of dimension (multiplicity, 1e6).\n",
    "            h_vectors = np.empty((multiplicity, 10000))\n",
    "            k_vectors = np.empty((multiplicity, 10000))\n",
    "            p_vectors = np.empty((multiplicity, 10000))\n",
    "            q_vectors = np.empty((multiplicity, 10000))\n",
    "\n",
    "            # Loops through all possible number of planets in a system (1-9 Planets).\n",
    "            for planet_num in range(multiplicity):\n",
    "                # Sets the column label.\n",
    "                inclination_label = inclination_columns[planet_num]\n",
    "                eccentricity_label = eccentricity_columns[planet_num]\n",
    "                omega_label = omega_columns[planet_num]\n",
    "                Omega_label = Omega_columns[planet_num]\n",
    "\n",
    "                # Gathers the four relevant orbital element values, casting from string to float values.\n",
    "                inclinations = data[inclination_label].astype(float)\n",
    "                eccentricities = data[eccentricity_label].astype(float)\n",
    "                omegas = data[omega_label].astype(float)\n",
    "                Omegas = data[Omega_label].astype(float)\n",
    "\n",
    "                # Calculates the vectors using the numpy library.\n",
    "                h_vectors[planet_num] = eccentricities * np.sin(omegas + Omegas)\n",
    "                k_vectors[planet_num] = eccentricities * np.cos(omegas + Omegas)\n",
    "                p_vectors[planet_num] = np.tan(inclinations / 2.0) * np.sin(Omegas)\n",
    "                q_vectors[planet_num] = np.tan(inclinations / 2.0) * np.cos(Omegas)\n",
    "\n",
    "                # Guards against index errors.\n",
    "                assert len(h_vectors[planet_num]) == len(k_vectors[planet_num]) == len(p_vectors[planet_num]) == len(q_vectors[planet_num])\n",
    "\n",
    "            h_vectors = h_vectors.T\n",
    "            k_vectors = k_vectors.T\n",
    "            p_vectors = p_vectors.T\n",
    "            q_vectors = q_vectors.T\n",
    "\n",
    "            # Loops through each planet in the given system.\n",
    "            for row_num in range(len(h_vectors)):\n",
    "                # Initializes the row output.\n",
    "                row = str()\n",
    "\n",
    "                # Loops through each column of the given row.\n",
    "                for col_num in range(len(h_vectors[row_num])):\n",
    "                    h_str = h_vectors[row_num][col_num].astype(str)\n",
    "                    k_str = k_vectors[row_num][col_num].astype(str)\n",
    "                    p_str = p_vectors[row_num][col_num].astype(str)\n",
    "                    q_str = q_vectors[row_num][col_num].astype(str)\n",
    "\n",
    "                    if col_num == 0:\n",
    "                        # Gets the value of each vector at the given row index, casting to strings.\n",
    "                        time_str = time[row_num].astype(str)\n",
    "\n",
    "                        row += time_str + ','\n",
    "                    else:\n",
    "                        row += ','\n",
    "\n",
    "                    # Generates the output string for the current row.\n",
    "                    row += ','.join([h_str, k_str, p_str, q_str])\n",
    "\n",
    "                row += '\\n'\n",
    "\n",
    "                # Writes the row to the .csv file.\n",
    "                csv_file.write(row)\n",
    "\n",
    "    # Handles exceptions.\n",
    "    except FileNotFoundError as e:\n",
    "        print(e)\n",
    "\n"
   ]
  },
  {
   "cell_type": "code",
   "execution_count": 193,
   "metadata": {},
   "outputs": [],
   "source": [
    "system_filepaths = [os.path.join(os.pardir, os.pardir, 'data', 'sysSim_4.csv')]\n",
    "savepath = os.path.join(os.pardir, os.pardir, 'results', 'inclinations', 'power_spectra_sysSim_4.csv')\n",
    "\n",
    "generate_power_spectra_data(savepath, system_filepaths)"
   ]
  },
  {
   "cell_type": "code",
   "execution_count": 194,
   "metadata": {},
   "outputs": [],
   "source": [
    "data = pd.read_csv(os.path.join(os.pardir, os.pardir, 'results', 'inclinations', 'power_spectra_sysSim_4.csv'))"
   ]
  },
  {
   "cell_type": "code",
   "execution_count": 224,
   "metadata": {},
   "outputs": [
    {
     "data": {
      "text/plain": [
       "[<matplotlib.lines.Line2D at 0x25889ac2110>]"
      ]
     },
     "execution_count": 224,
     "metadata": {},
     "output_type": "execute_result"
    },
    {
     "data": {
      "image/png": "[encoded data removed]",
      "text/plain": [
       "<Figure size 640x480 with 1 Axes>"
      ]
     },
     "metadata": {},
     "output_type": "display_data"
    }
   ],
   "source": [
    "(x, y) = (data['Time'], data['Planet 2 p'])\n",
    "\n",
    "cutoff = 5000\n",
    "\n",
    "fft = np.abs(np.fft.fft(y))[:cutoff]\n",
    "\n",
    "plt.plot(x[:cutoff], (fft/10000))"
   ]
  },
  {
   "cell_type": "code",
   "execution_count": null,
   "metadata": {},
   "outputs": [],
   "source": []
  }
 ],
 "metadata": {
  "kernelspec": {
   "display_name": "base",
   "language": "python",
   "name": "python3"
  },
  "language_info": {
   "codemirror_mode": {
    "name": "ipython",
    "version": 3
   },
   "file_extension": ".py",
   "mimetype": "text/x-python",
   "name": "python",
   "nbconvert_exporter": "python",
   "pygments_lexer": "ipython3",
   "version": "3.11.5"
  }
 },
 "nbformat": 4,
 "nbformat_minor": 2
}
