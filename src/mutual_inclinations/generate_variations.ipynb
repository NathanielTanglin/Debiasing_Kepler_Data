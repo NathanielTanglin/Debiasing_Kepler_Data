{
 "cells": [
  {
   "cell_type": "code",
   "execution_count": 4,
   "metadata": {},
   "outputs": [],
   "source": [
    "import numpy as np\n",
    "import pandas as pd\n",
    "import os\n",
    "from IPython.display import clear_output\n",
    "import time\n",
    "\n",
    "import sys\n",
    "\n",
    "_lib_path = os.path.join('c:' + os.sep, 'Users', 'natha', 'OneDrive', 'Documents', 'GitHub', 'Debiasing_Kepler_Data', 'lib')\n",
    "\n",
    "if _lib_path not in sys.path:\n",
    "    sys.path.append(_lib_path)\n",
    "\n",
    "import system_names\n",
    "import index_combinations"
   ]
  },
  {
   "cell_type": "code",
   "execution_count": 5,
   "metadata": {},
   "outputs": [],
   "source": [
    "VERBOSE = True\n",
    "USE_ALL_DATA = False"
   ]
  },
  {
   "cell_type": "code",
   "execution_count": 6,
   "metadata": {},
   "outputs": [],
   "source": [
    "def generate_mutual_inclination_variation_data(savepath, system_filepaths):\n",
    "    if type(system_filepaths) != list:\n",
    "        raise Exception('Please input a list of system filepaths! Type of input is not a list.')\n",
    "\n",
    "    try:\n",
    "        # Open a csv file for writing to.\n",
    "        csv_file = open(savepath, 'w', encoding = 'utf-8')\n",
    "\n",
    "        # Builds the header.\n",
    "        header = 'System,Planet Pair,Variation,Fractional Variation\\n'\n",
    "\n",
    "        # Writes the header to the .csv file.\n",
    "        csv_file.write(header)\n",
    "\n",
    "        # Loops through all the systems in the given filepaths.\n",
    "        for system_filepath in system_filepaths:\n",
    "            # Gets the system name from the end of the filepath.\n",
    "            system_name = system_filepath.split(os.sep)[-1]\n",
    "            \n",
    "            if VERBOSE:\n",
    "                seconds = time.time()\n",
    "                \n",
    "                if (seconds % 1.0) < 0.08:\n",
    "                    clear_output()\n",
    "                    print('Caching data from {system}...({pct}%)'.format(system = system_name, pct = round(((system_filepaths.index(system_filepath) + 1) / len(system_filepaths) * 100.0))))\n",
    "\n",
    "            # Accesses the data as a pandas dataframe.\n",
    "            data = pd.read_csv(system_filepath)\n",
    "\n",
    "            # Gets the final timestep of the dataset.\n",
    "            endtime = data['Time'].iloc[-1].astype(float)\n",
    "\n",
    "            # Checks if the given file integrated to 1 Myr.\n",
    "            if (not USE_ALL_DATA) and endtime < 1e6:\n",
    "                continue\n",
    "\n",
    "            # Gets the columns which contain inclination data.\n",
    "            inclination_columns = sorted([column for column in data.columns if 'inclination' in column])\n",
    "            Omega_columns = sorted([column for column in data.columns if 'Omega' in column])\n",
    "\n",
    "            # Ensures the arrays are of equal length to prevent indexing errors.\n",
    "            assert len(inclination_columns) == len(Omega_columns)\n",
    "\n",
    "            # Gets the multiplicity of the system. There should be as many planets as there are unique inclination columns.\n",
    "            # I.e. there is \"Planet 1 inclination\", \"Planet 2 inclination\", ... \"Planet N inclination\", where N is the system\n",
    "            # multiplicity.\n",
    "            multiplicity = len(inclination_columns)\n",
    "\n",
    "            # Loops through every planet-planet pair combination for the given system.\n",
    "            for (n1, n2) in index_combinations.get_index_combinations(multiplicity):                \n",
    "                # Ensures that the indexes correspond to the correct columns. Makes sure the order is correct.\n",
    "                assert str(n1 + 1) in inclination_columns[n1]\n",
    "                assert str(n2 + 1) in inclination_columns[n2]\n",
    "                \n",
    "                # Captures the inclination pair data\n",
    "                n1_inclinations = (data[inclination_columns[n1]].astype(float))\n",
    "                n2_inclinations = (data[inclination_columns[n2]].astype(float))\n",
    "                n1_Omegas = (data[Omega_columns[n1]].astype(float))\n",
    "                n2_Omegas = (data[Omega_columns[n2]].astype(float))\n",
    "\n",
    "                # Calculates the mutual inclinations.\n",
    "                mutual_inclinations = np.rad2deg(np.arccos(np.cos(n1_inclinations)*np.cos(n2_inclinations) + np.sin(n1_inclinations)*np.sin(n2_inclinations)*np.cos(n1_Omegas-n2_Omegas)))\n",
    "\n",
    "                # Calculates the variations.\n",
    "                min_mutual_inclination = mutual_inclinations.min()\n",
    "                max_mutual_inclination = mutual_inclinations.max()\n",
    "                median_mutual_inclination = mutual_inclinations.median()\n",
    "                variation = max_mutual_inclination - min_mutual_inclination\n",
    "                frac_variation = variation / median_mutual_inclination\n",
    "\n",
    "                # Creates a label for the planet pair.\n",
    "                planet_pair = 'Planets {planet_1} and {planet_2}'.format(planet_1 = (n1 + 1), planet_2 = (n2 + 1))\n",
    "\n",
    "                # Appends the data to an output string.\n",
    "                row = system_name + ',' + planet_pair + ',' + str(variation) + ',' + str(frac_variation) + '\\n'\n",
    "\n",
    "                # Writes the data to the .csv file.\n",
    "                csv_file.write(row)\n",
    "\n",
    "        # Closes the file.\n",
    "        csv_file.close()\n",
    "\n",
    "        # Lets the user know the data caching has completed.\n",
    "        if VERBOSE:\n",
    "            print('Done!')\n",
    "\n",
    "    except FileNotFoundError as exception:\n",
    "        print(exception)"
   ]
  },
  {
   "cell_type": "code",
   "execution_count": 7,
   "metadata": {},
   "outputs": [
    {
     "name": "stdout",
     "output_type": "stream",
     "text": [
      "Caching data from sysSim_999_randomO.csv...(100%)\n",
      "Done!\n"
     ]
    }
   ],
   "source": [
    "# Creates the path to the data directory.\n",
    "path = os.path.join(os.pardir, os.pardir, 'data', 'raw')\n",
    "\n",
    "# Creates a list of filepaths that link to the data files.\n",
    "files = [os.path.join(path, f) for f in system_names.stable_system_names]\n",
    "\n",
    "# Creates the savepath.\n",
    "savepath = os.path.join(os.pardir, os.pardir, 'results', 'mutual_inclinations', 'variations.csv')\n",
    "\n",
    "# Generates teh mutual inclination fractional variation data using the given savepath and list of system .csv files.\n",
    "generate_mutual_inclination_variation_data(savepath, files)"
   ]
  },
  {
   "cell_type": "code",
   "execution_count": 8,
   "metadata": {},
   "outputs": [],
   "source": [
    "def find_high_variations(variation, type = 'Fractional Variation'):\n",
    "      df = pd.read_csv(os.path.join(os.pardir, os.pardir, 'results', 'mutual_inclinations', 'variations.csv'))\n",
    "\n",
    "      mask = (df[type] > variation) if variation > 0 else (df[type] < variation)\n",
    "\n",
    "      for unstable_system_name in system_names.unstable_systems:\n",
    "            mask &= (df['System'] != unstable_system_name)\n",
    "\n",
    "      return df[mask]['System']"
   ]
  },
  {
   "cell_type": "code",
   "execution_count": 9,
   "metadata": {},
   "outputs": [
    {
     "data": {
      "text/plain": [
       "43        sysSim_3_randomO.csv\n",
       "44        sysSim_3_randomO.csv\n",
       "46                sysSim_4.csv\n",
       "52                sysSim_5.csv\n",
       "53                sysSim_5.csv\n",
       "                 ...          \n",
       "9722            sysSim_997.csv\n",
       "9723            sysSim_998.csv\n",
       "9725            sysSim_998.csv\n",
       "9726    sysSim_998_randomO.csv\n",
       "9728    sysSim_998_randomO.csv\n",
       "Name: System, Length: 4463, dtype: object"
      ]
     },
     "execution_count": 9,
     "metadata": {},
     "output_type": "execute_result"
    }
   ],
   "source": [
    "find_high_variations(1.0, type = 'Variation')"
   ]
  },
  {
   "cell_type": "code",
   "execution_count": 10,
   "metadata": {},
   "outputs": [
    {
     "data": {
      "image/png": "[encoded data removed]",
      "text/plain": [
       "<Figure size 640x480 with 4 Axes>"
      ]
     },
     "metadata": {},
     "output_type": "display_data"
    }
   ],
   "source": [
    "import matplotlib.pyplot as plt\n",
    "\n",
    "test = pd.read_csv(os.path.join(os.pardir, os.pardir, 'data', 'raw', 'sysSim_825.csv'))\n",
    "\n",
    "plt.subplots(2, 2)\n",
    "\n",
    "plt.subplot(2, 2, 1)\n",
    "plt.plot(test['Time'], test['Planet 5 inclination'])\n",
    "\n",
    "ax = plt.subplot(2, 2, 2)\n",
    "ax.set_visible(False)"
   ]
  },
  {
   "cell_type": "code",
   "execution_count": null,
   "metadata": {},
   "outputs": [],
   "source": []
  }
 ],
 "metadata": {
  "kernelspec": {
   "display_name": "base",
   "language": "python",
   "name": "python3"
  },
  "language_info": {
   "codemirror_mode": {
    "name": "ipython",
    "version": 3
   },
   "file_extension": ".py",
   "mimetype": "text/x-python",
   "name": "python",
   "nbconvert_exporter": "python",
   "pygments_lexer": "ipython3",
   "version": "3.11.5"
  }
 },
 "nbformat": 4,
 "nbformat_minor": 2
}
