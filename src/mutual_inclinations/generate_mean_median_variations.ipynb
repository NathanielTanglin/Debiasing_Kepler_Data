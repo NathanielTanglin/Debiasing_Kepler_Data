{
 "cells": [
  {
   "cell_type": "markdown",
   "metadata": {},
   "source": [
    "**Generating Mean and Median Mutual Inclinations of Each Planet-Planet Combination for a Given System**"
   ]
  },
  {
   "cell_type": "code",
   "execution_count": 1,
   "metadata": {},
   "outputs": [],
   "source": [
    "import pandas as pd\n",
    "import numpy as np\n",
    "import os\n",
    "import time\n",
    "\n",
    "# Allows clearing of the cell console.\n",
    "from IPython.display import clear_output\n",
    "\n",
    "import sys\n",
    "\n",
    "_lib_path = os.path.join('c:' + os.sep, 'Users', 'natha', 'OneDrive', 'Documents', 'GitHub', 'Debiasing_Kepler_Data', 'lib')\n",
    "\n",
    "# Allows access to the code library.\n",
    "if _lib_path not in sys.path:\n",
    "    sys.path.append(_lib_path)\n",
    "\n",
    "import system_names\n",
    "import index_combinations"
   ]
  },
  {
   "cell_type": "code",
   "execution_count": 2,
   "metadata": {},
   "outputs": [],
   "source": [
    "VERBOSE = True\n",
    "USE_ALL_DATA = False"
   ]
  },
  {
   "cell_type": "code",
   "execution_count": 3,
   "metadata": {},
   "outputs": [],
   "source": [
    "def generate_mean_median_inclination_data(savepath, system_filepaths):\n",
    "    if type(system_filepaths) != list:\n",
    "        raise Exception('Please input a list of system filepaths! Type of input is not a list.')\n",
    "\n",
    "    try:\n",
    "        # Open a csv file for writing to.\n",
    "        csv_file = open(savepath, 'w', encoding = 'utf-8')\n",
    "\n",
    "        # Builds the header.\n",
    "        header = 'System,Planet Pair,Mean Mutual Inclination,Median Mutual Inclination,Variation,Fractional Variation\\n'\n",
    "\n",
    "        # Writes the header to the .csv file.\n",
    "        csv_file.write(header)\n",
    "\n",
    "        # Loops through all the systems in the given filepaths.\n",
    "        for system_filepath in system_filepaths:\n",
    "            # Gets the system name from the end of the filepath.\n",
    "            system_name = system_filepath.split(os.sep)[-1]\n",
    "            \n",
    "            # Outputs current status to the console.\n",
    "            if VERBOSE:\n",
    "                seconds = time.time()\n",
    "                \n",
    "                if (seconds % 1.0) < 0.08:\n",
    "                    clear_output()\n",
    "                    print('Caching data from {system}...({pct}%)'.format(system = system_name, pct = round(((system_filepaths.index(system_filepath) + 1) / len(system_filepaths) * 100.0))))\n",
    "\n",
    "            # Accesses the data as a pandas dataframe.\n",
    "            data = pd.read_csv(system_filepath)\n",
    "\n",
    "            # Gets the final timestep of the dataset.\n",
    "            endtime = data['Time'].iloc[-1].astype(float)\n",
    "\n",
    "            # Checks if the given file integrated to 1 Myr.\n",
    "            if (not USE_ALL_DATA) and endtime < 1e6:\n",
    "                continue\n",
    "\n",
    "            # Gets the columns which contain inclination data.\n",
    "            inclination_columns = sorted([column for column in data.columns if 'inclination' in column])\n",
    "            Omega_columns = sorted([column for column in data.columns if 'Omega' in column])\n",
    "\n",
    "            multiplicity = len(inclination_columns)\n",
    "\n",
    "            for (n1, n2) in index_combinations.get_index_combinations(multiplicity):                \n",
    "                # Ensures that the indexes correspond to the correct columns. Makes sure the order is correct.\n",
    "                assert str(n1 + 1) in inclination_columns[n1]\n",
    "                assert str(n2 + 1) in inclination_columns[n2]\n",
    "                \n",
    "                # Captures the inclination pair data, converting from degrees to radians.\n",
    "                n1_inclinations = (data[inclination_columns[n1]].astype(float))\n",
    "                n2_inclinations = (data[inclination_columns[n2]].astype(float))\n",
    "                n1_Omegas = (data[Omega_columns[n1]].astype(float))\n",
    "                n2_Omegas = (data[Omega_columns[n2]].astype(float))\n",
    "\n",
    "                # Calculates the mutual inclinations, converting from radians to degrees.\n",
    "                mutual_inclinations = np.rad2deg(np.arccos(np.cos(n1_inclinations)*np.cos(n2_inclinations) + np.sin(n1_inclinations)*np.sin(n2_inclinations)*np.cos(n1_Omegas-n2_Omegas)))\n",
    "\n",
    "                # Cacluates the variations.\n",
    "                mean = mutual_inclinations.mean()\n",
    "                median = mutual_inclinations.median()\n",
    "                variation = mean - median\n",
    "                frac_variation = variation / median\n",
    "\n",
    "                # Creates a label for the planet pair.\n",
    "                planet_pair = 'Planets {planet_1} and {planet_2}'.format(planet_1 = (n1 + 1), planet_2 = (n2 + 1))\n",
    "\n",
    "                # Appends the data to an output string.\n",
    "                row = system_name + ',' + planet_pair + ',' + ','.join([str(mean), str(median), str(variation), str(frac_variation)]) + '\\n'\n",
    "\n",
    "                # Writes the data to the .csv file.\n",
    "                csv_file.write(row)\n",
    "\n",
    "        # Closes the file.\n",
    "        csv_file.close()\n",
    "\n",
    "        # Lets the user know the data caching has completed.\n",
    "        if VERBOSE:\n",
    "            print('Done!')\n",
    "\n",
    "    except FileNotFoundError as exception:\n",
    "        print(exception)"
   ]
  },
  {
   "cell_type": "code",
   "execution_count": 4,
   "metadata": {},
   "outputs": [],
   "source": [
    "# Creates the path to the data directory.\n",
    "path = os.path.join(os.pardir, os.pardir, 'data', 'raw')\n",
    "\n",
    "# Creates a list of filepaths that link to the data files.\n",
    "files = [os.path.join(path, f) for f in system_names.stable_system_names]\n",
    "\n",
    "# Creates the savepath.\n",
    "savepath = os.path.join(os.pardir, os.pardir, 'results', 'mutual_inclinations', 'mean_median_variations.csv')"
   ]
  },
  {
   "cell_type": "code",
   "execution_count": 5,
   "metadata": {},
   "outputs": [
    {
     "name": "stdout",
     "output_type": "stream",
     "text": [
      "Caching data from sysSim_993_randomO.csv...(99%)\n",
      "Done!\n"
     ]
    }
   ],
   "source": [
    "generate_mean_median_inclination_data(savepath, files)"
   ]
  },
  {
   "cell_type": "code",
   "execution_count": 6,
   "metadata": {},
   "outputs": [],
   "source": [
    "def find_high_variations(variation, type = 'Fractional Variation'):\n",
    "      df = pd.read_csv(os.path.join(os.pardir, os.pardir, 'results', 'mutual_inclinations', 'mean_median_variations.csv'))\n",
    "\n",
    "      mask = (df[type] > variation) if variation > 0 else (df[type] < variation)\n",
    "\n",
    "      for unstable_system_name in system_names.unstable_systems:\n",
    "            mask &= (df['System'] != unstable_system_name)\n",
    "\n",
    "      return df[mask]['System']"
   ]
  },
  {
   "cell_type": "code",
   "execution_count": 7,
   "metadata": {},
   "outputs": [
    {
     "data": {
      "text/plain": [
       "43        sysSim_3_randomO.csv\n",
       "44        sysSim_3_randomO.csv\n",
       "46                sysSim_4.csv\n",
       "52                sysSim_5.csv\n",
       "54                sysSim_5.csv\n",
       "                 ...          \n",
       "9720            sysSim_997.csv\n",
       "9721            sysSim_997.csv\n",
       "9723            sysSim_998.csv\n",
       "9725            sysSim_998.csv\n",
       "9727    sysSim_998_randomO.csv\n",
       "Name: System, Length: 2139, dtype: object"
      ]
     },
     "execution_count": 7,
     "metadata": {},
     "output_type": "execute_result"
    }
   ],
   "source": [
    "find_high_variations(-0.04, 'Variation')"
   ]
  },
  {
   "cell_type": "code",
   "execution_count": 8,
   "metadata": {},
   "outputs": [
    {
     "data": {
      "text/plain": [
       "[<matplotlib.lines.Line2D at 0x2017b089fd0>]"
      ]
     },
     "execution_count": 8,
     "metadata": {},
     "output_type": "execute_result"
    },
    {
     "data": {
      "image/png": "[encoded data removed]",
      "text/plain": [
       "<Figure size 640x480 with 1 Axes>"
      ]
     },
     "metadata": {},
     "output_type": "display_data"
    }
   ],
   "source": [
    "import matplotlib.pyplot as plt\n",
    "\n",
    "test = pd.read_csv(os.path.join(os.pardir, os.pardir, 'data', 'raw', 'sysSim_709.csv'))\n",
    "\n",
    "plt.plot(test['Time'], test['Planet 1 ecc'])"
   ]
  },
  {
   "cell_type": "code",
   "execution_count": 9,
   "metadata": {},
   "outputs": [],
   "source": [
    "from types import NoneType\n",
    "\n",
    "def remove_unstable_systems(filepath):\n",
    "    df = pd.read_csv(filepath)\n",
    "\n",
    "    mask = None\n",
    "\n",
    "    for unstable_system_name in system_names.unstable_systems:\n",
    "        if type(mask) == NoneType:\n",
    "            mask = (df['System'] != unstable_system_name)\n",
    "        else:\n",
    "            mask &= (df['System'] != unstable_system_name)\n",
    "\n",
    "    df[mask].to_csv(filepath)"
   ]
  },
  {
   "cell_type": "code",
   "execution_count": null,
   "metadata": {},
   "outputs": [],
   "source": []
  }
 ],
 "metadata": {
  "kernelspec": {
   "display_name": "base",
   "language": "python",
   "name": "python3"
  },
  "language_info": {
   "codemirror_mode": {
    "name": "ipython",
    "version": 3
   },
   "file_extension": ".py",
   "mimetype": "text/x-python",
   "name": "python",
   "nbconvert_exporter": "python",
   "pygments_lexer": "ipython3",
   "version": "3.11.5"
  }
 },
 "nbformat": 4,
 "nbformat_minor": 2
}
